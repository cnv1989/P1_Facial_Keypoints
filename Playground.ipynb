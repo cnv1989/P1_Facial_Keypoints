{
 "cells": [
  {
   "cell_type": "code",
   "execution_count": 61,
   "metadata": {},
   "outputs": [],
   "source": [
    "import math\n",
    "# 1, 96, 96\n",
    "def after_conv(layer, kernel=3, stride=1, padding=1):\n",
    "    output_shape = math.floor((((layer[1] + 2*padding - kernel)/ stride) + 1))\n",
    "    return [layer[0], output_shape, output_shape]\n",
    "\n",
    "def after_pool(layer, stride):\n",
    "    return [layer[0], layer[1]/stride, layer[2]/stride]"
   ]
  },
  {
   "cell_type": "code",
   "execution_count": 64,
   "metadata": {},
   "outputs": [
    {
     "name": "stdout",
     "output_type": "stream",
     "text": [
      "[1, 47.0, 47.0]\n",
      "[1, 22.5, 22.5]\n",
      "[1, 10.0, 10.0]\n",
      "[1, 5.0, 5.0]\n",
      "[1, 5, 5]\n"
     ]
    }
   ],
   "source": [
    "layer = (1, 96, 96)\n",
    "\n",
    "layer = after_conv(layer, kernel=5, stride=1, padding=1)\n",
    "layer = after_pool(layer, 2)\n",
    "print(layer)\n",
    "layer = after_conv(layer, kernel=5, stride=1, padding=1)\n",
    "layer = after_pool(layer, 2)\n",
    "print(layer)\n",
    "layer = after_conv(layer, kernel=5, stride=1, padding=1)\n",
    "layer = after_pool(layer, 2)\n",
    "print(layer)\n",
    "layer = after_conv(layer, kernel=3, stride=1, padding=1)\n",
    "layer = after_pool(layer, 2)\n",
    "print(layer)\n",
    "layer = after_conv(layer, kernel=3, stride=1, padding=1)\n",
    "print(layer)"
   ]
  },
  {
   "cell_type": "code",
   "execution_count": 48,
   "metadata": {},
   "outputs": [
    {
     "name": "stdout",
     "output_type": "stream",
     "text": [
      "[1, 93.0, 93.0]\n"
     ]
    }
   ],
   "source": [
    "print(layer2)"
   ]
  },
  {
   "cell_type": "code",
   "execution_count": null,
   "metadata": {},
   "outputs": [],
   "source": []
  }
 ],
 "metadata": {
  "kernelspec": {
   "display_name": "Python 3",
   "language": "python",
   "name": "python3"
  },
  "language_info": {
   "codemirror_mode": {
    "name": "ipython",
    "version": 3
   },
   "file_extension": ".py",
   "mimetype": "text/x-python",
   "name": "python",
   "nbconvert_exporter": "python",
   "pygments_lexer": "ipython3",
   "version": "3.6.5"
  }
 },
 "nbformat": 4,
 "nbformat_minor": 2
}
